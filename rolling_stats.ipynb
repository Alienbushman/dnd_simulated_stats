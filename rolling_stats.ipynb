{
 "cells": [
  {
   "cell_type": "code",
   "execution_count": 1,
   "metadata": {},
   "outputs": [],
   "source": [
    "from random import randint\n"
   ]
  },
  {
   "cell_type": "code",
   "execution_count": 2,
   "metadata": {},
   "outputs": [
    {
     "name": "stdout",
     "output_type": "stream",
     "text": [
      "[14, 14, 13, 13, 12, 11]\n"
     ]
    }
   ],
   "source": [
    "def roll_stat():\n",
    "    rolls=[]\n",
    "    for _ in range(4):\n",
    "        rolls.append(randint(1, 6))\n",
    "    rolls.remove(min(rolls))\n",
    "    return sum(rolls)\n",
    "\n",
    "def roll_character_stats():\n",
    "    stats=[]\n",
    "    for _ in range(6):\n",
    "        stats.append(roll_stat())\n",
    "    stats.sort(reverse=True)\n",
    "    return stats\n",
    "    \n",
    "print(roll_character_stats())"
   ]
  },
  {
   "cell_type": "code",
   "execution_count": 3,
   "metadata": {},
   "outputs": [
    {
     "name": "stdout",
     "output_type": "stream",
     "text": [
      "12.25517\n"
     ]
    }
   ],
   "source": [
    "def average_roll():\n",
    "    simulations=100000\n",
    "    sum_rolls=0\n",
    "    for _ in range(simulations):\n",
    "        sum_rolls+=roll_stat()\n",
    "    print(sum_rolls/simulations)\n",
    "average_roll() "
   ]
  },
  {
   "cell_type": "code",
   "execution_count": 4,
   "metadata": {},
   "outputs": [
    {
     "name": "stdout",
     "output_type": "stream",
     "text": [
      "15.65264\n",
      "14.16473\n"
     ]
    }
   ],
   "source": [
    "def average_top_two_stats():\n",
    "    simulations=100000\n",
    "    sum_highest_rolls=0\n",
    "    sum_second_rolls=0\n",
    "    for _ in range(simulations):\n",
    "        stats=roll_character_stats()\n",
    "        max_stat=max(stats)\n",
    "        sum_highest_rolls+=max_stat\n",
    "        stats.remove(max_stat)\n",
    "        sum_second_rolls+=max(stats)\n",
    "    print(sum_highest_rolls/simulations)\n",
    "    print(sum_second_rolls/simulations)\n",
    "average_top_two_stats()"
   ]
  },
  {
   "cell_type": "code",
   "execution_count": 5,
   "metadata": {},
   "outputs": [
    {
     "name": "stdout",
     "output_type": "stream",
     "text": [
      "11.5\n",
      "11.833333333333334\n",
      "12.166666666666666\n",
      "12.5\n"
     ]
    }
   ],
   "source": [
    "def point_buy_in():\n",
    "    #3 stats 15\n",
    "    print((15*3+8*3)/6)\n",
    "    #2 stats 15\n",
    "    print((30+9+8*4)/6)\n",
    "    #1 stats 15\n",
    "    print((15+18+8*5)/6)\n",
    "    #buy in low level\n",
    "    print((0+27/6*6+8*6)/6)\n",
    "    #print(8+27/6)\n",
    "    \n",
    "    \n",
    "point_buy_in()"
   ]
  }
 ],
 "metadata": {
  "kernelspec": {
   "display_name": "Python 3",
   "language": "python",
   "name": "python3"
  },
  "language_info": {
   "codemirror_mode": {
    "name": "ipython",
    "version": 3
   },
   "file_extension": ".py",
   "mimetype": "text/x-python",
   "name": "python",
   "nbconvert_exporter": "python",
   "pygments_lexer": "ipython3",
   "version": "3.6.9"
  }
 },
 "nbformat": 4,
 "nbformat_minor": 4
}
