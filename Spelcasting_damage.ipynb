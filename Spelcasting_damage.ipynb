{
 "cells": [
  {
   "cell_type": "code",
   "execution_count": 2,
   "metadata": {},
   "outputs": [],
   "source": [
    "from random import randint\n"
   ]
  },
  {
   "cell_type": "code",
   "execution_count": null,
   "metadata": {},
   "outputs": [],
   "source": []
  },
  {
   "cell_type": "code",
   "execution_count": 23,
   "metadata": {},
   "outputs": [
    {
     "name": "stdout",
     "output_type": "stream",
     "text": [
      "monster mod: -2 damage:  82.2807\n",
      "monster mod: -1 damage:  81.3207\n",
      "monster mod: 0 damage:  80.121\n",
      "monster mod: 1 damage:  78.8729\n",
      "monster mod: 2 damage:  77.2527\n",
      "monster mod: 3 damage:  75.5393\n",
      "monster mod: 4 damage:  73.2263\n",
      "monster mod: 5 damage:  71.2109\n",
      "monster mod: 6 damage:  68.7561\n",
      "monster mod: 7 damage:  65.7027\n"
     ]
    }
   ],
   "source": [
    "def save(modifications):\n",
    "    return ((randint(1, 20)+modifications)>=10)\n",
    "    \n",
    "def spell_damage(damage_spell):\n",
    "    damage_rng=damage_spell.split('d')\n",
    "    damage=0\n",
    "    for _ in range(0,int(damage_rng[0])):\n",
    "        damage+=randint(1, int(damage_rng[1]))\n",
    "       \n",
    "    return damage\n",
    "def run_simulations(damage,stat,target_mod=0,targets=3,full_save=False,adv_dis=None, simulations=1000):\n",
    "    \"\"\"\n",
    "    Runs a bunch of simulations to determine the amount of damage that a weapon will cause\n",
    "    :param weapon: The weapons rng part\n",
    "    :param ac: The monsters armor class\n",
    "    :param stat: Your ability bonus to the weapon e.g. strength or dex\n",
    "    :param accuracy_bonus: Bonuses to your accuracy (such as a +1 weapon)\n",
    "    :param damage_bonus: additional bonuses to damage such as a +1 weapon or greater weapon master\n",
    "    :param simulations: the amount of simulations to run\n",
    "    :param adv_dis: whether a person has advantage or disadvantage\n",
    "    :return: The average amount of damage dealt\n",
    "   \n",
    "    \"\"\"\n",
    "    \n",
    "    total_damage=0\n",
    "    for _ in range(0, simulations):\n",
    "        for _ in range(targets):\n",
    "            hit_chance=save(stat-target_mod)\n",
    "            if adv_dis == 'adv':\n",
    "                hit_chance = (hit_chance or save(stat-target_mod))\n",
    "            elif adv_dis == 'dis':\n",
    "                did_hit = hit_chance = (hit_chance and save(stat-target_mod))\n",
    "            if hit_chance==True:\n",
    "                total_damage += spell_damage(damage)\n",
    "            elif full_save==False:\n",
    "                total_damage += spell_damage(damage)//2\n",
    "    return (total_damage/simulations)\n",
    "                    \n",
    "                    \n",
    "simulations=10000\n",
    "targets = 3\n",
    "stat = 3\n",
    "targets_mod = range(-2,8)\n",
    "full_save = False\n",
    "adv_dis = 'adv'\n",
    "damage='8d6'\n",
    "for target_mod in targets_mod:\n",
    "    average_damage = run_simulations(damage,stat,target_mod,targets,full_save,adv_dis, simulations)\n",
    "    print('monster mod: {} damage:  {}'.format(target_mod,average_damage))"
   ]
  },
  {
   "cell_type": "code",
   "execution_count": 24,
   "metadata": {},
   "outputs": [
    {
     "name": "stdout",
     "output_type": "stream",
     "text": [
      "monster mod: -2 damage:  68.8148\n",
      "monster mod: -1 damage:  65.2393\n",
      "monster mod: 0 damage:  62.372\n",
      "monster mod: 1 damage:  59.4257\n",
      "monster mod: 2 damage:  56.5161\n",
      "monster mod: 3 damage:  54.327\n",
      "monster mod: 4 damage:  51.9493\n",
      "monster mod: 5 damage:  50.069\n",
      "monster mod: 6 damage:  48.1935\n",
      "monster mod: 7 damage:  46.3326\n"
     ]
    }
   ],
   "source": [
    "\n",
    "\n",
    "adv_dis = 'dis'\n",
    "damage='8d6'\n",
    "for target_mod in targets_mod:\n",
    "    average_damage = run_simulations(damage,stat,target_mod,targets,full_save,adv_dis, simulations)\n",
    "    print('monster mod: {} damage:  {}'.format(target_mod,average_damage))"
   ]
  },
  {
   "cell_type": "code",
   "execution_count": null,
   "metadata": {},
   "outputs": [],
   "source": []
  }
 ],
 "metadata": {
  "kernelspec": {
   "display_name": "Python 3",
   "language": "python",
   "name": "python3"
  },
  "language_info": {
   "codemirror_mode": {
    "name": "ipython",
    "version": 3
   },
   "file_extension": ".py",
   "mimetype": "text/x-python",
   "name": "python",
   "nbconvert_exporter": "python",
   "pygments_lexer": "ipython3",
   "version": "3.6.9"
  }
 },
 "nbformat": 4,
 "nbformat_minor": 2
}
