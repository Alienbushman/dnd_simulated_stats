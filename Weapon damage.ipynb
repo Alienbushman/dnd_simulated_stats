{
 "cells": [
  {
   "cell_type": "code",
   "execution_count": 1,
   "metadata": {},
   "outputs": [],
   "source": [
    "from random import randint\n"
   ]
  },
  {
   "cell_type": "code",
   "execution_count": 21,
   "metadata": {},
   "outputs": [],
   "source": [
    "def weapon_damage(weapon,stat,bonus=0, crit=False):\n",
    "    #calculating the rng part of damage\n",
    "    weapon_rng=weapon.split('d')\n",
    "    damage=0\n",
    "    for _ in range(0,int(weapon_rng[0])):\n",
    "        damage+=randint(1, int(weapon_rng[1]))\n",
    "        if (crit):\n",
    "            damage+=randint(1, int(weapon_rng[1]))\n",
    "    #adding the damage stat\n",
    "    damage+=stat+bonus\n",
    "    return damage\n",
    "def weapon_hit(stat,proficiency,accuracy_bonus,ac):\n",
    "    #returns 0 for miss, 1 for a hit, 2 for a crit\n",
    "    # determines whether a weapon attack hits\n",
    "    random_elem=randint(1, 20)\n",
    "    \n",
    "    if random_elem==20:\n",
    "        return 2\n",
    "    elif(random_elem+stat+proficiency+accuracy_bonus>ac):\n",
    "        return 1\n",
    "    return 0\n",
    "\n",
    "    \n",
    "#runs a bunch of simulations for a weapons damage against a monstor with AC\n",
    "def run_simulations(weapon,ac,stat=3,proficiency=2,accuracy_bonus=0,damage_bonus=0,attacks=1,adv_dis=None, simulations=1000):\n",
    "    \"\"\"\n",
    "    Runs a bunch of simulations to determine the amount of damage that a weapon will cause\n",
    "    :param weapon: The weapons rng part\n",
    "    :param ac: The monsters armor class\n",
    "    :param stat: Your ability bonus to the weapon e.g. strength or dex\n",
    "    :param accuracy_bonus: Bonuses to your accuracy (such as a +1 weapon)\n",
    "    :param damage_bonus: additional bonuses to damage such as a +1 weapon or greater weapon master\n",
    "    :param simulations: the amount of simulations to run\n",
    "    :param adv_dis: whether a person has advantage or disadvantage\n",
    "    :return: The average amount of damage dealt\n",
    "   \n",
    "    \"\"\"\n",
    "    total_damage=0\n",
    "    if (adv_dis==None):\n",
    "        for _ in range(0, simulations):\n",
    "            for \n",
    "            hit_chance=weapon_hit(stat,proficiency,accuracy_bonus,ac)\n",
    "            if hit_chance==1:\n",
    "                total_damage += weapon_damage(weapon,stat,damage_bonus)\n",
    "            elif hit_chance==2:\n",
    "                total_damage += weapon_damage(weapon,stat,damage_bonus,True)\n",
    "                \n",
    "    if adv_dis=='adv':\n",
    "        for _ in range(0, simulations):\n",
    "           \n",
    "            hit_chance=max(weapon_hit(stat,proficiency,accuracy_bonus,ac),weapon_hit(stat,proficiency,accuracy_bonus,ac))\n",
    "            if hit_chance==1:\n",
    "                total_damage += weapon_damage(weapon,stat,damage_bonus)\n",
    "            elif hit_chance==2:\n",
    "                total_damage += weapon_damage(weapon,stat,damage_bonus,True)\n",
    "    if adv_dis=='dis':\n",
    "        for _ in range(0, simulations):\n",
    "            hit_chance=min(weapon_hit(stat,proficiency,accuracy_bonus,ac),weapon_hit(stat,proficiency,accuracy_bonus,ac))\n",
    "            if hit_chance==1:\n",
    "                total_damage += weapon_damage(weapon,stat,damage_bonus)\n",
    "            elif hit_chance==2:\n",
    "                total_damage += weapon_damage(weapon,stat,damage_bonus,True)\n",
    "    return (total_damage/simulations)\n",
    "    "
   ]
  },
  {
   "cell_type": "code",
   "execution_count": 28,
   "metadata": {},
   "outputs": [
    {
     "name": "stdout",
     "output_type": "stream",
     "text": [
      "monster ac: 8 damage:  10.80049\n",
      "monster ac: 9 damage:  10.26196\n",
      "monster ac: 10 damage:  9.71072\n",
      "monster ac: 11 damage:  9.16282\n",
      "monster ac: 12 damage:  8.5896\n",
      "monster ac: 13 damage:  8.07531\n",
      "monster ac: 14 damage:  7.50789\n",
      "monster ac: 15 damage:  6.93287\n",
      "monster ac: 16 damage:  6.36562\n",
      "monster ac: 17 damage:  5.84538\n",
      "monster ac: 18 damage:  5.29321\n",
      "monster ac: 19 damage:  4.78881\n",
      "monster ac: 20 damage:  4.21293\n",
      "monster ac: 21 damage:  3.62636\n",
      "monster ac: 22 damage:  3.07977\n",
      "monster ac: 23 damage:  2.56222\n"
     ]
    }
   ],
   "source": [
    "simulations=10000\n",
    "\n",
    "proficiency=3\n",
    "stat=4\n",
    "\n",
    "accuracy_bonus=0\n",
    "damage_bonus=0\n",
    "\n",
    "greatsword='2d6'\n",
    "\n",
    "weapon=greatsword\n",
    "\n",
    "monsters_ac=list(range(8,24))\n",
    "adv_dis=None\n",
    "for monster_ac in monsters_ac:\n",
    "    average_damage=run_simulations(greatsword,monster_ac,stat,proficiency,accuracy_bonus,damage_bonus,attacks, adv_dis,simulations )\n",
    "    \n",
    "    print('monster ac: {} damage:  {}'.format(monster_ac,average_damage))\n",
    "\n"
   ]
  },
  {
   "cell_type": "code",
   "execution_count": 29,
   "metadata": {},
   "outputs": [
    {
     "name": "stdout",
     "output_type": "stream",
     "text": [
      "monster ac: 8 damage:  15.08245\n",
      "monster ac: 9 damage:  13.95368\n",
      "monster ac: 10 damage:  12.96105\n",
      "monster ac: 11 damage:  11.89582\n",
      "monster ac: 12 damage:  10.85129\n",
      "monster ac: 13 damage:  9.81892\n",
      "monster ac: 14 damage:  8.78341\n",
      "monster ac: 15 damage:  7.70872\n",
      "monster ac: 16 damage:  6.63665\n",
      "monster ac: 17 damage:  5.62094\n",
      "monster ac: 18 damage:  4.54224\n",
      "monster ac: 19 damage:  3.45512\n",
      "monster ac: 20 damage:  2.4366\n",
      "monster ac: 21 damage:  1.41191\n",
      "monster ac: 22 damage:  1.39704\n",
      "monster ac: 23 damage:  1.40869\n"
     ]
    }
   ],
   "source": [
    "\n",
    "\n",
    "accuracy_bonus=-5\n",
    "damage_bonus=10\n",
    "\n",
    "\n",
    "\n",
    "monsters_ac=list(range(8,24))\n",
    "adv_dis=None\n",
    "for monster_ac in monsters_ac:\n",
    "    average_damage=run_simulations(greatsword,monster_ac,stat,proficiency,accuracy_bonus,damage_bonus,adv_dis,simulations )\n",
    "    \n",
    "    print('monster ac: {} damage:  {}'.format(monster_ac,average_damage))\n",
    "\n"
   ]
  },
  {
   "cell_type": "code",
   "execution_count": null,
   "metadata": {},
   "outputs": [],
   "source": []
  }
 ],
 "metadata": {
  "kernelspec": {
   "display_name": "Python 3",
   "language": "python",
   "name": "python3"
  },
  "language_info": {
   "codemirror_mode": {
    "name": "ipython",
    "version": 3
   },
   "file_extension": ".py",
   "mimetype": "text/x-python",
   "name": "python",
   "nbconvert_exporter": "python",
   "pygments_lexer": "ipython3",
   "version": "3.6.9"
  }
 },
 "nbformat": 4,
 "nbformat_minor": 2
}
