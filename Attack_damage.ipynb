{
 "cells": [
  {
   "cell_type": "code",
   "execution_count": 1,
   "metadata": {},
   "outputs": [],
   "source": [
    "from random import randint\n"
   ]
  },
  {
   "cell_type": "code",
   "execution_count": 10,
   "metadata": {},
   "outputs": [],
   "source": [
    "def attack_damage(weapon,stat,bonus=0, crit=False):\n",
    "    #calculating the rng part of damage\n",
    "    weapon_rng=weapon.split('d')\n",
    "    damage=0\n",
    "    for _ in range(0,int(weapon_rng[0])):\n",
    "        damage+=randint(1, int(weapon_rng[1]))\n",
    "        if (crit):\n",
    "            damage+=randint(1, int(weapon_rng[1]))\n",
    "    #adding the damage stat\n",
    "    damage+=stat+bonus\n",
    "    return damage\n",
    "\n",
    "def hit_chance(stat,proficiency,accuracy_bonus,ac):\n",
    "    #returns 0 for miss, 1 for a hit, 2 for a crit\n",
    "    # determines whether a weapon attack hits\n",
    "    random_elem=randint(1, 20)\n",
    "    \n",
    "    if random_elem==20:\n",
    "        return 2\n",
    "    elif(random_elem+stat+proficiency+accuracy_bonus>=ac):\n",
    "        return 1\n",
    "    return 0\n",
    "\n",
    "    \n",
    "#runs a bunch of simulations for a weapons damage against a monstor with AC\n",
    "def run_simulations(weapon,ac,stat=3,proficiency=2,accuracy_bonus=0,damage_bonus=0,attacks=1,adv_dis=None, simulations=1000):\n",
    "    \"\"\"\n",
    "    Runs a bunch of simulations to determine the amount of damage that a weapon will cause\n",
    "    :param weapon: The weapons rng part\n",
    "    :param ac: The monsters armor class\n",
    "    :param stat: Your ability bonus to the weapon e.g. strength or dex\n",
    "    :param accuracy_bonus: Bonuses to your accuracy (such as a +1 weapon)\n",
    "    :param damage_bonus: additional bonuses to damage such as a +1 weapon or greater weapon master\n",
    "    :param simulations: the amount of simulations to run\n",
    "    :param adv_dis: whether a person has advantage or disadvantage\n",
    "    :return: The average amount of damage dealt\n",
    "   \n",
    "    \"\"\"\n",
    "    total_damage=0\n",
    "    \n",
    "    for _ in range(0, simulations):\n",
    "        for _ in range(attacks):\n",
    "            did_hit=hit_chance(stat,proficiency,accuracy_bonus,ac)\n",
    "\n",
    "            if adv_dis == 'adv':\n",
    "                did_hit = max(did_hit,hit_chance(stat,proficiency,accuracy_bonus,ac))\n",
    "            elif adv_dis == 'dis':\n",
    "                did_hit = min(did_hit,hit_chance(stat,proficiency,accuracy_bonus,ac))\n",
    "\n",
    "            if did_hit==1:\n",
    "                total_damage += attack_damage(weapon,stat,damage_bonus)\n",
    "            elif did_hit==2:\n",
    "                total_damage += attack_damage(weapon,stat,damage_bonus,True)\n",
    "    \n",
    "    return (total_damage/simulations)\n",
    "    \n",
    "   "
   ]
  },
  {
   "cell_type": "code",
   "execution_count": 15,
   "metadata": {},
   "outputs": [
    {
     "name": "stdout",
     "output_type": "stream",
     "text": [
      "monster ac: 8 damage:  22.0395\n",
      "monster ac: 9 damage:  19.9973\n",
      "monster ac: 10 damage:  17.8593\n",
      "monster ac: 11 damage:  15.9264\n",
      "monster ac: 12 damage:  13.9332\n",
      "monster ac: 13 damage:  12.3474\n",
      "monster ac: 14 damage:  10.7808\n",
      "monster ac: 15 damage:  9.2851\n",
      "monster ac: 16 damage:  7.9487\n",
      "monster ac: 17 damage:  6.7187\n",
      "monster ac: 18 damage:  5.5375\n",
      "monster ac: 19 damage:  4.3776\n",
      "monster ac: 20 damage:  3.5138\n",
      "monster ac: 21 damage:  2.7355\n",
      "monster ac: 22 damage:  1.9823\n",
      "monster ac: 23 damage:  1.4752\n"
     ]
    }
   ],
   "source": [
    "simulations=10000\n",
    "\n",
    "proficiency=3\n",
    "stat=4\n",
    "\n",
    "accuracy_bonus=0\n",
    "damage_bonus=0\n",
    "\n",
    "greatsword='2d6'\n",
    "attacks=2\n",
    "weapon=greatsword\n",
    "\n",
    "monsters_ac=list(range(8,24))\n",
    "adv_dis='dis'\n",
    "for monster_ac in monsters_ac:\n",
    "    average_damage=run_simulations(greatsword,monster_ac,stat,proficiency,accuracy_bonus,damage_bonus,attacks, adv_dis,simulations )\n",
    "    \n",
    "    print('monster ac: {} damage:  {}'.format(monster_ac,average_damage))\n",
    "\n"
   ]
  },
  {
   "cell_type": "code",
   "execution_count": 16,
   "metadata": {},
   "outputs": [
    {
     "name": "stdout",
     "output_type": "stream",
     "text": [
      "monster ac: 8 damage:  23.6162\n",
      "monster ac: 9 damage:  20.7889\n",
      "monster ac: 10 damage:  17.8079\n",
      "monster ac: 11 damage:  15.2726\n",
      "monster ac: 12 damage:  12.9466\n",
      "monster ac: 13 damage:  10.7208\n",
      "monster ac: 14 damage:  8.5433\n",
      "monster ac: 15 damage:  6.845\n",
      "monster ac: 16 damage:  5.1895\n",
      "monster ac: 17 damage:  3.8454\n",
      "monster ac: 18 damage:  2.5512\n",
      "monster ac: 19 damage:  1.7629\n",
      "monster ac: 20 damage:  1.0128\n",
      "monster ac: 21 damage:  0.4061\n",
      "monster ac: 22 damage:  0.1557\n",
      "monster ac: 23 damage:  0.1554\n"
     ]
    }
   ],
   "source": [
    "\n",
    "\n",
    "accuracy_bonus=-5\n",
    "damage_bonus=10\n",
    "\n",
    "\n",
    "\n",
    "for monster_ac in monsters_ac:\n",
    "    average_damage=run_simulations(greatsword,monster_ac,stat,proficiency,accuracy_bonus,damage_bonus,attacks, adv_dis,simulations )\n",
    "    \n",
    "    print('monster ac: {} damage:  {}'.format(monster_ac,average_damage))\n",
    "\n"
   ]
  },
  {
   "cell_type": "code",
   "execution_count": null,
   "metadata": {},
   "outputs": [],
   "source": []
  }
 ],
 "metadata": {
  "kernelspec": {
   "display_name": "Python 3",
   "language": "python",
   "name": "python3"
  },
  "language_info": {
   "codemirror_mode": {
    "name": "ipython",
    "version": 3
   },
   "file_extension": ".py",
   "mimetype": "text/x-python",
   "name": "python",
   "nbconvert_exporter": "python",
   "pygments_lexer": "ipython3",
   "version": "3.6.9"
  }
 },
 "nbformat": 4,
 "nbformat_minor": 2
}
